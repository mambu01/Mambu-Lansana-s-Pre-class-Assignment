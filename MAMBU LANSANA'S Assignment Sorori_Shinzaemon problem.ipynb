{
 "cells": [
  {
   "cell_type": "markdown",
   "metadata": {},
   "source": [
    "# [PROBLEM 1] Number of Grain of Rice in the 100th day"
   ]
  },
  {
   "cell_type": "code",
   "execution_count": null,
   "metadata": {},
   "outputs": [],
   "source": [
    "num_days = 100\n",
    "totalgrain_rice = 1\n",
    "\n",
    "for w in range(1, num_days + 1):\n",
    "    print(i, total_grain_rice)#show the amount of grains received for that day\n",
    "    total_grain_rice *= 2\n",
    "   \n",
    "print(\"Sum of rice in\", w, \"days is: \", totalgrain_rice)\n",
    "   \n",
    "           "
   ]
  },
  {
   "cell_type": "code",
   "execution_count": null,
   "metadata": {},
   "outputs": [],
   "source": [
    "num_days = 100\n",
    "total_grain_rice = 1\n",
    "y = []\n",
    "x = list(range(1, num_days + 1))\n",
    "\n",
    "for i in range(1, num_days + 1,):\n",
    "    print(\"For day: {} the total grain is: {}\".format(w, totagrain_rice))\n",
    "\n",
    "    yaxis.append(total_grain_rice)\n",
    "    total_grain_rice = 2**i    \n",
    "        \n",
    "print(\"Sum of rice in\", w, \"days is: \", totalgrain_rice)\n",
    "           "
   ]
  },
  {
   "cell_type": "code",
   "execution_count": null,
   "metadata": {},
   "outputs": [],
   "source": [
    "#plotting the graph\n",
    "import matplotlib.pyplot as plt\n",
    "\n",
    "plt.xlabel('Number of Days')\n",
    "plt.ylabel('Number of Rice')\n",
    "plt.title('Change in the Number of Rice Grain')\n",
    "plt.plot(x, y, linewidth=3.0)\n",
    "plt.tick_params(labelsize=10)\n",
    "plt.figure(figsize=(48, 24))\n",
    "plt.show()"
   ]
  },
  {
   "cell_type": "markdown",
   "metadata": {},
   "source": [
    "【Problem 2] Number of rice grains outside of the 100th day"
   ]
  },
  {
   "cell_type": "code",
   "execution_count": null,
   "metadata": {},
   "outputs": [],
   "source": [
    "#Create a function\n",
    "def compute_sorori_shinzaemon(day=100):\n",
    "    #List containing number of days\n",
    "    list_n_grains = [(lambda x: x)(x) for x in range(1, day + 1)]\n",
    "    \n",
    "    #This list show the total number of rice receive per day\n",
    "    list_total_grains = [2**x-1 for x in range(1, day + 1) ]\n",
    "    pass\n",
    "    return list_n_grains, list_total_grains\n",
    "list_n_grains, list_total_grains = compute_sorori_shinzaemon(day=10)\n",
    "print(\"days: {}\".format(list_n_grains[-1]))\n",
    "\n",
    "print(\"grains: {}\".format(list_total_grains[-1]))"
   ]
  },
  {
   "cell_type": "markdown",
   "metadata": {},
   "source": [
    "# version of the above code that accept input from the user"
   ]
  },
  {
   "cell_type": "code",
   "execution_count": null,
   "metadata": {},
   "outputs": [],
   "source": [
    "#Create a function\n",
    "def compute_sorori_shinzaemon(day=100):\n",
    "    #List containing number of days\n",
    "    list_n_grains1 = [(lambda x: x)(x) for x in range(1, day + 1)]\n",
    "    \n",
    "    #This list show the total number of rice receive per day\n",
    "    list_total_grains1 = [2**x-1 for x in range(1, day + 1) ]\n",
    "    pass\n",
    "    return list_n_grains1, list_total_grains1\n",
    "\n",
    "list_n_grains1, list_total_grains1 = compute_sorori_shinzaemon(int(input(\"Days amount Entered: \")))\n",
    "#index function to call the total amount\n",
    "print(\"days: {}\".format(list_n_grains1[-1]))\n",
    "#index function to call the total amount\n",
    "print(\"grains: {}\".format(list_total_grains1[-1]))"
   ]
  },
  {
   "cell_type": "markdown",
   "metadata": {},
   "source": [
    "# Plotting the graph\n"
   ]
  },
  {
   "cell_type": "code",
   "execution_count": null,
   "metadata": {},
   "outputs": [],
   "source": [
    "import matplotlib.pyplot as plt\n",
    "\n",
    "plt.xlabel('Number of Days')\n",
    "plt.ylabel('Number of Rice')\n",
    "plt.title('Change in the Number of Rice Grain')\n",
    "plt.plot(list_n_grains1, list_total_grains1, linewidth=3.0)\n",
    "plt.tick_params(labelsize=10)\n",
    "plt.figure(figsize=(48, 24))\n",
    "plt.show()"
   ]
  },
  {
   "cell_type": "code",
   "execution_count": null,
   "metadata": {},
   "outputs": [],
   "source": []
  },
  {
   "cell_type": "markdown",
   "metadata": {},
   "source": [
    "# 【Problem 3] How many people can live for how many days with the rice we get?"
   ]
  },
  {
   "cell_type": "markdown",
   "metadata": {},
   "source": [
    "\n",
    " it takes  400 grams or about  19200 grains of rice to feed one adult for a day."
   ]
  },
  {
   "cell_type": "code",
   "execution_count": 3,
   "metadata": {},
   "outputs": [
    {
     "ename": "NameError",
     "evalue": "name 'total_grain_rice' is not defined",
     "output_type": "error",
     "traceback": [
      "\u001b[1;31m---------------------------------------------------------------------------\u001b[0m",
      "\u001b[1;31mNameError\u001b[0m                                 Traceback (most recent call last)",
      "\u001b[1;32m<ipython-input-3-7681685ce260>\u001b[0m in \u001b[0;36m<module>\u001b[1;34m\u001b[0m\n\u001b[0;32m      5\u001b[0m     \u001b[0mnumber_of_people\u001b[0m \u001b[1;33m=\u001b[0m \u001b[0mtotal_grain_rice\u001b[0m\u001b[1;33m/\u001b[0m\u001b[1;33m(\u001b[0m\u001b[0mnumber_of_grain\u001b[0m\u001b[1;33m*\u001b[0m\u001b[0mdays_to_live\u001b[0m\u001b[1;33m)\u001b[0m\u001b[1;33m\u001b[0m\u001b[1;33m\u001b[0m\u001b[0m\n\u001b[0;32m      6\u001b[0m     \u001b[1;32mreturn\u001b[0m \u001b[0mdays_to_live\u001b[0m\u001b[1;33m\u001b[0m\u001b[1;33m\u001b[0m\u001b[0m\n\u001b[1;32m----> 7\u001b[1;33m \u001b[0mdays_to_live\u001b[0m  \u001b[1;33m=\u001b[0m \u001b[0mcompute_n_days\u001b[0m\u001b[1;33m(\u001b[0m\u001b[0mnumber_of_grain\u001b[0m\u001b[1;33m=\u001b[0m\u001b[1;36m19200\u001b[0m\u001b[1;33m,\u001b[0m \u001b[0mnumber_of_people\u001b[0m\u001b[1;33m=\u001b[0m\u001b[1;36m60\u001b[0m\u001b[1;33m)\u001b[0m\u001b[1;33m\u001b[0m\u001b[1;33m\u001b[0m\u001b[0m\n\u001b[0m\u001b[0;32m      8\u001b[0m \u001b[0mprint\u001b[0m\u001b[1;33m(\u001b[0m\u001b[1;34m\"{} DAYS\"\u001b[0m\u001b[1;33m.\u001b[0m\u001b[0mformat\u001b[0m\u001b[1;33m(\u001b[0m\u001b[0mdays_to_live\u001b[0m\u001b[1;33m)\u001b[0m\u001b[1;33m)\u001b[0m\u001b[1;33m\u001b[0m\u001b[1;33m\u001b[0m\u001b[0m\n",
      "\u001b[1;32m<ipython-input-3-7681685ce260>\u001b[0m in \u001b[0;36mcompute_n_days\u001b[1;34m(number_of_grain, number_of_people)\u001b[0m\n\u001b[0;32m      2\u001b[0m \u001b[1;32mdef\u001b[0m \u001b[0mcompute_n_days\u001b[0m\u001b[1;33m(\u001b[0m\u001b[0mnumber_of_grain\u001b[0m\u001b[1;33m,\u001b[0m \u001b[0mnumber_of_people\u001b[0m\u001b[1;33m,\u001b[0m \u001b[1;33m)\u001b[0m\u001b[1;33m:\u001b[0m\u001b[1;33m\u001b[0m\u001b[1;33m\u001b[0m\u001b[0m\n\u001b[0;32m      3\u001b[0m \u001b[1;33m\u001b[0m\u001b[0m\n\u001b[1;32m----> 4\u001b[1;33m     \u001b[0mdays_to_live\u001b[0m \u001b[1;33m=\u001b[0m \u001b[0mtotal_grain_rice\u001b[0m\u001b[1;33m/\u001b[0m\u001b[1;33m(\u001b[0m\u001b[0mnumber_of_grain\u001b[0m\u001b[1;33m*\u001b[0m\u001b[0mnumber_of_people\u001b[0m\u001b[1;33m)\u001b[0m\u001b[1;33m\u001b[0m\u001b[1;33m\u001b[0m\u001b[0m\n\u001b[0m\u001b[0;32m      5\u001b[0m     \u001b[0mnumber_of_people\u001b[0m \u001b[1;33m=\u001b[0m \u001b[0mtotal_grain_rice\u001b[0m\u001b[1;33m/\u001b[0m\u001b[1;33m(\u001b[0m\u001b[0mnumber_of_grain\u001b[0m\u001b[1;33m*\u001b[0m\u001b[0mdays_to_live\u001b[0m\u001b[1;33m)\u001b[0m\u001b[1;33m\u001b[0m\u001b[1;33m\u001b[0m\u001b[0m\n\u001b[0;32m      6\u001b[0m     \u001b[1;32mreturn\u001b[0m \u001b[0mdays_to_live\u001b[0m\u001b[1;33m\u001b[0m\u001b[1;33m\u001b[0m\u001b[0m\n",
      "\u001b[1;31mNameError\u001b[0m: name 'total_grain_rice' is not defined"
     ]
    }
   ],
   "source": [
    "#Create a function\n",
    "def compute_n_days(number_of_grain, number_of_people, ):\n",
    "    \n",
    "    days_to_live = total_grain_rice/(number_of_grain*number_of_people)\n",
    "    number_of_people = total_grain_rice/(number_of_grain*days_to_live)\n",
    "    return days_to_live\n",
    "days_to_live  = compute_n_days(number_of_grain=19200, number_of_people=60)\n",
    "print(\"{} DAYS\".format(days_to_live))"
   ]
  },
  {
   "cell_type": "code",
   "execution_count": 2,
   "metadata": {},
   "outputs": [
    {
     "ename": "SyntaxError",
     "evalue": "invalid syntax (<ipython-input-2-4363d3d8343b>, line 9)",
     "output_type": "error",
     "traceback": [
      "\u001b[1;36m  File \u001b[1;32m\"<ipython-input-2-4363d3d8343b>\"\u001b[1;36m, line \u001b[1;32m9\u001b[0m\n\u001b[1;33m    days_to_live  = compute_n_days(number_of_grain=19200, number_of_people=)\u001b[0m\n\u001b[1;37m                                                                           ^\u001b[0m\n\u001b[1;31mSyntaxError\u001b[0m\u001b[1;31m:\u001b[0m invalid syntax\n"
     ]
    }
   ],
   "source": [
    "#Create a function\n",
    "def compute_n_days(number_of_grain, number_of_people, ):\n",
    "   \n",
    "    \n",
    "    days_to_live = list_total_grains1[-1]/(number_of_grain*number_of_people)\n",
    "    number_of_people = list_total_grains1[-1]/(number_of_grain*days_to_live)\n",
    "    \n",
    "    return days_to_live\n",
    "days_to_live  = compute_n_days(number_of_grain=19200, number_of_people=60)\n",
    "print(\"{} DAYS\".format(days_to_live))"
   ]
  },
  {
   "cell_type": "code",
   "execution_count": null,
   "metadata": {},
   "outputs": [],
   "source": []
  }
 ],
 "metadata": {
  "kernelspec": {
   "display_name": "Python 3",
   "language": "python",
   "name": "python3"
  },
  "language_info": {
   "codemirror_mode": {
    "name": "ipython",
    "version": 3
   },
   "file_extension": ".py",
   "mimetype": "text/x-python",
   "name": "python",
   "nbconvert_exporter": "python",
   "pygments_lexer": "ipython3",
   "version": "3.8.5"
  }
 },
 "nbformat": 4,
 "nbformat_minor": 4
}
